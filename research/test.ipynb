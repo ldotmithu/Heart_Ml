{
 "cells": [
  {
   "cell_type": "code",
   "execution_count": 1,
   "metadata": {},
   "outputs": [],
   "source": [
    "import pandas as pd \n",
    "import warnings\n",
    "warnings.simplefilter('ignore')\n",
    "\n",
    "import pickle\n",
    "import numpy as np\n",
    "import pandas as pd\n",
    "from sklearn.preprocessing import StandardScaler\n",
    "from sklearn.model_selection import train_test_split\n",
    "\n",
    "from sklearn.svm import SVC\n",
    "from xgboost import XGBClassifier\n",
    "from catboost import CatBoostClassifier\n",
    "from sklearn.naive_bayes import GaussianNB\n",
    "from sklearn.tree import DecisionTreeClassifier\n",
    "from sklearn.neighbors import KNeighborsClassifier\n",
    "from sklearn.linear_model import LogisticRegression\n",
    "from sklearn.ensemble import RandomForestClassifier\n",
    "from sklearn.metrics import accuracy_score, classification_report, precision_score, recall_score, f1_score, confusion_matrix"
   ]
  },
  {
   "cell_type": "code",
   "execution_count": 2,
   "metadata": {},
   "outputs": [
    {
     "data": {
      "text/html": [
       "<div>\n",
       "<style scoped>\n",
       "    .dataframe tbody tr th:only-of-type {\n",
       "        vertical-align: middle;\n",
       "    }\n",
       "\n",
       "    .dataframe tbody tr th {\n",
       "        vertical-align: top;\n",
       "    }\n",
       "\n",
       "    .dataframe thead th {\n",
       "        text-align: right;\n",
       "    }\n",
       "</style>\n",
       "<table border=\"1\" class=\"dataframe\">\n",
       "  <thead>\n",
       "    <tr style=\"text-align: right;\">\n",
       "      <th></th>\n",
       "      <th>Age</th>\n",
       "      <th>Gender</th>\n",
       "      <th>Chest Pain Type</th>\n",
       "      <th>Resting Blood Pressure</th>\n",
       "      <th>Serum Cholesterol</th>\n",
       "      <th>Fasting Blood Sugar</th>\n",
       "      <th>Resting Electrocardiographic Results</th>\n",
       "      <th>Maximum Heart Rate Achieved</th>\n",
       "      <th>Exercise induced angina</th>\n",
       "      <th>Depression induced by exercise relative to rest</th>\n",
       "      <th>Slope of the Peak Exercise ST Segment</th>\n",
       "      <th>Number of Major Vessels Colored by Fluoroscopy</th>\n",
       "      <th>Thalassemia</th>\n",
       "      <th>Target</th>\n",
       "    </tr>\n",
       "  </thead>\n",
       "  <tbody>\n",
       "    <tr>\n",
       "      <th>0</th>\n",
       "      <td>52</td>\n",
       "      <td>1</td>\n",
       "      <td>0</td>\n",
       "      <td>125</td>\n",
       "      <td>212</td>\n",
       "      <td>0</td>\n",
       "      <td>1</td>\n",
       "      <td>168</td>\n",
       "      <td>0</td>\n",
       "      <td>1.0</td>\n",
       "      <td>2</td>\n",
       "      <td>2</td>\n",
       "      <td>3</td>\n",
       "      <td>0</td>\n",
       "    </tr>\n",
       "    <tr>\n",
       "      <th>1</th>\n",
       "      <td>53</td>\n",
       "      <td>1</td>\n",
       "      <td>0</td>\n",
       "      <td>140</td>\n",
       "      <td>203</td>\n",
       "      <td>1</td>\n",
       "      <td>0</td>\n",
       "      <td>155</td>\n",
       "      <td>1</td>\n",
       "      <td>3.1</td>\n",
       "      <td>0</td>\n",
       "      <td>0</td>\n",
       "      <td>3</td>\n",
       "      <td>0</td>\n",
       "    </tr>\n",
       "    <tr>\n",
       "      <th>2</th>\n",
       "      <td>70</td>\n",
       "      <td>1</td>\n",
       "      <td>0</td>\n",
       "      <td>145</td>\n",
       "      <td>174</td>\n",
       "      <td>0</td>\n",
       "      <td>1</td>\n",
       "      <td>125</td>\n",
       "      <td>1</td>\n",
       "      <td>2.6</td>\n",
       "      <td>0</td>\n",
       "      <td>0</td>\n",
       "      <td>3</td>\n",
       "      <td>0</td>\n",
       "    </tr>\n",
       "    <tr>\n",
       "      <th>3</th>\n",
       "      <td>61</td>\n",
       "      <td>1</td>\n",
       "      <td>0</td>\n",
       "      <td>148</td>\n",
       "      <td>203</td>\n",
       "      <td>0</td>\n",
       "      <td>1</td>\n",
       "      <td>161</td>\n",
       "      <td>0</td>\n",
       "      <td>0.0</td>\n",
       "      <td>2</td>\n",
       "      <td>1</td>\n",
       "      <td>3</td>\n",
       "      <td>0</td>\n",
       "    </tr>\n",
       "    <tr>\n",
       "      <th>4</th>\n",
       "      <td>62</td>\n",
       "      <td>0</td>\n",
       "      <td>0</td>\n",
       "      <td>138</td>\n",
       "      <td>294</td>\n",
       "      <td>1</td>\n",
       "      <td>1</td>\n",
       "      <td>106</td>\n",
       "      <td>0</td>\n",
       "      <td>1.9</td>\n",
       "      <td>1</td>\n",
       "      <td>3</td>\n",
       "      <td>2</td>\n",
       "      <td>0</td>\n",
       "    </tr>\n",
       "  </tbody>\n",
       "</table>\n",
       "</div>"
      ],
      "text/plain": [
       "   Age  Gender  Chest Pain Type  Resting Blood Pressure  Serum Cholesterol  \\\n",
       "0   52       1                0                     125                212   \n",
       "1   53       1                0                     140                203   \n",
       "2   70       1                0                     145                174   \n",
       "3   61       1                0                     148                203   \n",
       "4   62       0                0                     138                294   \n",
       "\n",
       "   Fasting Blood Sugar  Resting Electrocardiographic Results  \\\n",
       "0                    0                                     1   \n",
       "1                    1                                     0   \n",
       "2                    0                                     1   \n",
       "3                    0                                     1   \n",
       "4                    1                                     1   \n",
       "\n",
       "   Maximum Heart Rate Achieved  Exercise induced angina  \\\n",
       "0                          168                        0   \n",
       "1                          155                        1   \n",
       "2                          125                        1   \n",
       "3                          161                        0   \n",
       "4                          106                        0   \n",
       "\n",
       "   Depression induced by exercise relative to rest  \\\n",
       "0                                              1.0   \n",
       "1                                              3.1   \n",
       "2                                              2.6   \n",
       "3                                              0.0   \n",
       "4                                              1.9   \n",
       "\n",
       "   Slope of the Peak Exercise ST Segment  \\\n",
       "0                                      2   \n",
       "1                                      0   \n",
       "2                                      0   \n",
       "3                                      2   \n",
       "4                                      1   \n",
       "\n",
       "   Number of Major Vessels Colored by Fluoroscopy  Thalassemia  Target  \n",
       "0                                               2            3       0  \n",
       "1                                               0            3       0  \n",
       "2                                               0            3       0  \n",
       "3                                               1            3       0  \n",
       "4                                               3            2       0  "
      ]
     },
     "execution_count": 2,
     "metadata": {},
     "output_type": "execute_result"
    }
   ],
   "source": [
    "data=pd.read_csv('heart.csv')\n",
    "data.head()"
   ]
  },
  {
   "cell_type": "code",
   "execution_count": 3,
   "metadata": {},
   "outputs": [
    {
     "name": "stdout",
     "output_type": "stream",
     "text": [
      "<class 'pandas.core.frame.DataFrame'>\n",
      "RangeIndex: 1025 entries, 0 to 1024\n",
      "Data columns (total 14 columns):\n",
      " #   Column                                           Non-Null Count  Dtype  \n",
      "---  ------                                           --------------  -----  \n",
      " 0   Age                                              1025 non-null   int64  \n",
      " 1   Gender                                           1025 non-null   int64  \n",
      " 2   Chest Pain Type                                  1025 non-null   int64  \n",
      " 3   Resting Blood Pressure                           1025 non-null   int64  \n",
      " 4   Serum Cholesterol                                1025 non-null   int64  \n",
      " 5   Fasting Blood Sugar                              1025 non-null   int64  \n",
      " 6   Resting Electrocardiographic Results             1025 non-null   int64  \n",
      " 7   Maximum Heart Rate Achieved                      1025 non-null   int64  \n",
      " 8   Exercise induced angina                          1025 non-null   int64  \n",
      " 9   Depression induced by exercise relative to rest  1025 non-null   float64\n",
      " 10  Slope of the Peak Exercise ST Segment            1025 non-null   int64  \n",
      " 11  Number of Major Vessels Colored by Fluoroscopy   1025 non-null   int64  \n",
      " 12  Thalassemia                                      1025 non-null   int64  \n",
      " 13  Target                                           1025 non-null   int64  \n",
      "dtypes: float64(1), int64(13)\n",
      "memory usage: 112.2 KB\n"
     ]
    }
   ],
   "source": [
    "data.info()"
   ]
  },
  {
   "cell_type": "markdown",
   "metadata": {},
   "source": [
    "Age\n",
    "Gender\n",
    "Chest Pain Type\n",
    "Resting Blood Pressure\n",
    "Serum Cholesterol\n",
    "Fasting Blood Sugar\n",
    "Resting Electrocardiographic Results\n",
    "Maximum Heart Rate Achieved\n",
    "Exercise induced angina\n",
    "Depression induced by exercise relative to rest\n",
    "Slope of the Peak Exercise ST Segment\n",
    "Number of Major Vessels Colored by Fluoroscopy\n",
    "Thalassemia\n",
    "Target"
   ]
  },
  {
   "cell_type": "code",
   "execution_count": 4,
   "metadata": {},
   "outputs": [
    {
     "data": {
      "text/plain": [
       "Age                                                False\n",
       "Gender                                             False\n",
       "Chest Pain Type                                    False\n",
       "Resting Blood Pressure                             False\n",
       "Serum Cholesterol                                  False\n",
       "Fasting Blood Sugar                                False\n",
       "Resting Electrocardiographic Results               False\n",
       "Maximum Heart Rate Achieved                        False\n",
       "Exercise induced angina                            False\n",
       "Depression induced by exercise relative to rest    False\n",
       "Slope of the Peak Exercise ST Segment              False\n",
       "Number of Major Vessels Colored by Fluoroscopy     False\n",
       "Thalassemia                                        False\n",
       "Target                                             False\n",
       "dtype: bool"
      ]
     },
     "execution_count": 4,
     "metadata": {},
     "output_type": "execute_result"
    }
   ],
   "source": [
    "data.isnull().any()"
   ]
  },
  {
   "cell_type": "code",
   "execution_count": 5,
   "metadata": {},
   "outputs": [
    {
     "data": {
      "text/plain": [
       "723"
      ]
     },
     "execution_count": 5,
     "metadata": {},
     "output_type": "execute_result"
    }
   ],
   "source": [
    "data.duplicated().sum()"
   ]
  },
  {
   "cell_type": "code",
   "execution_count": 6,
   "metadata": {},
   "outputs": [
    {
     "data": {
      "text/plain": [
       "(1025, 14)"
      ]
     },
     "execution_count": 6,
     "metadata": {},
     "output_type": "execute_result"
    }
   ],
   "source": [
    "data.shape"
   ]
  },
  {
   "cell_type": "code",
   "execution_count": 7,
   "metadata": {},
   "outputs": [],
   "source": [
    "num_col=[feature for feature in data.columns if data[feature].dtype!='O']"
   ]
  },
  {
   "cell_type": "code",
   "execution_count": 8,
   "metadata": {},
   "outputs": [],
   "source": [
    "from sklearn.model_selection import train_test_split"
   ]
  },
  {
   "cell_type": "code",
   "execution_count": 9,
   "metadata": {},
   "outputs": [],
   "source": [
    "x=data.drop(columns='Target',axis=1)\n",
    "y=data['Target']"
   ]
  },
  {
   "cell_type": "code",
   "execution_count": 10,
   "metadata": {},
   "outputs": [],
   "source": [
    "x_train, x_test, y_train, y_test = train_test_split(x, y, test_size=0.20, random_state = 20)"
   ]
  },
  {
   "cell_type": "code",
   "execution_count": 11,
   "metadata": {},
   "outputs": [],
   "source": [
    "scaler = StandardScaler()\n",
    "\n",
    "x_train = scaler.fit_transform(x_train)\n",
    "\n",
    "x_test  = scaler.transform(x_test)"
   ]
  },
  {
   "cell_type": "code",
   "execution_count": 12,
   "metadata": {},
   "outputs": [],
   "source": [
    "models={\n",
    "    'Logistic Regression':LogisticRegression(),\n",
    "    'Naive Bayes':GaussianNB(),\n",
    "    'Random Forest Classfier':RandomForestClassifier(n_estimators=20, random_state=12,max_depth=5),\n",
    "    'XG Boost':XGBClassifier(learning_rate=0.01, n_estimators=25, max_depth=15,gamma=0.6, subsample=0.52,colsample_bytree=0.6,seed=27, \n",
    "                    reg_lambda=2, booster='dart', colsample_bylevel=0.6, colsample_bynode=0.5),\n",
    "    'K Nearest Neighbors':KNeighborsClassifier(n_neighbors=10),\n",
    "    'Decision Tree':DecisionTreeClassifier(criterion = 'entropy',random_state=0,max_depth = 6),\n",
    "    'Support Vector Machine':SVC(kernel='rbf', C=2)\n",
    "}"
   ]
  },
  {
   "cell_type": "code",
   "execution_count": 13,
   "metadata": {},
   "outputs": [
    {
     "name": "stdout",
     "output_type": "stream",
     "text": [
      "Model: Logistic Regression\n",
      "Testing Accuracy:  0.7951219512195122\n",
      "Precision:  0.7622950819672131\n",
      "Recall:  0.8773584905660378\n",
      "F1 Score:  0.8157894736842105\n",
      "Confusion Matrix:\n",
      "  [[70 29]\n",
      " [13 93]]\n",
      "===================================\n",
      "\n",
      "\n",
      "Model: Naive Bayes\n",
      "Testing Accuracy:  0.8\n",
      "Precision:  0.782608695652174\n",
      "Recall:  0.8490566037735849\n",
      "F1 Score:  0.8144796380090498\n",
      "Confusion Matrix:\n",
      "  [[74 25]\n",
      " [16 90]]\n",
      "===================================\n",
      "\n",
      "\n",
      "Model: Random Forest Classfier\n",
      "Testing Accuracy:  0.8878048780487805\n",
      "Precision:  0.8547008547008547\n",
      "Recall:  0.9433962264150944\n",
      "F1 Score:  0.8968609865470852\n",
      "Confusion Matrix:\n",
      "  [[ 82  17]\n",
      " [  6 100]]\n",
      "===================================\n",
      "\n",
      "\n",
      "Model: XG Boost\n",
      "Testing Accuracy:  0.848780487804878\n",
      "Precision:  0.8151260504201681\n",
      "Recall:  0.9150943396226415\n",
      "F1 Score:  0.8622222222222222\n",
      "Confusion Matrix:\n",
      "  [[77 22]\n",
      " [ 9 97]]\n",
      "===================================\n",
      "\n",
      "\n",
      "Model: K Nearest Neighbors\n",
      "Testing Accuracy:  0.8731707317073171\n",
      "Precision:  0.8703703703703703\n",
      "Recall:  0.8867924528301887\n",
      "F1 Score:  0.8785046728971962\n",
      "Confusion Matrix:\n",
      "  [[85 14]\n",
      " [12 94]]\n",
      "===================================\n",
      "\n",
      "\n",
      "Model: Decision Tree\n",
      "Testing Accuracy:  0.9317073170731708\n",
      "Precision:  0.8898305084745762\n",
      "Recall:  0.9905660377358491\n",
      "F1 Score:  0.9375\n",
      "Confusion Matrix:\n",
      "  [[ 86  13]\n",
      " [  1 105]]\n",
      "===================================\n",
      "\n",
      "\n",
      "Model: Support Vector Machine\n",
      "Testing Accuracy:  0.9658536585365853\n",
      "Precision:  0.9459459459459459\n",
      "Recall:  0.9905660377358491\n",
      "F1 Score:  0.967741935483871\n",
      "Confusion Matrix:\n",
      "  [[ 93   6]\n",
      " [  1 105]]\n",
      "===================================\n",
      "\n",
      "\n",
      "The best model based on accuracy is Support Vector Machine with Testing Accuracy: 0.9658536585365853\n"
     ]
    }
   ],
   "source": [
    "model_list = []\n",
    "accuracy_list = []\n",
    "precision_list = []\n",
    "recall_list = []\n",
    "f1_list = []\n",
    "\n",
    "for model_name, model in models.items():\n",
    "\n",
    "    model.fit(x_train, y_train)\n",
    "    y_pred_train = model.predict(x_train)\n",
    "    y_pred = model.predict(x_test)\n",
    "\n",
    "    # Evaluate the model\n",
    "    #train_accuracy = accuracy_score(x_train,y_pred_train)\n",
    "    test_accuracy = accuracy_score(y_test, y_pred)\n",
    "    precision = precision_score(y_test, y_pred)\n",
    "    recall = recall_score(y_test, y_pred)\n",
    "    f1 = f1_score(y_test, y_pred)\n",
    "    confusion_mat = confusion_matrix(y_test, y_pred)\n",
    "\n",
    "    print(f\"Model: {model_name}\")\n",
    "    print(\"Testing Accuracy: \", test_accuracy)\n",
    "    print(\"Precision: \",precision)\n",
    "    print(\"Recall: \",recall)\n",
    "    print(\"F1 Score: \",f1)\n",
    "    print(\"Confusion Matrix:\\n \",confusion_mat)\n",
    "\n",
    "\n",
    "    model_list.append(model_name)\n",
    "    accuracy_list.append(test_accuracy)\n",
    "    precision_list.append(precision)\n",
    "    recall_list.append(recall)\n",
    "    f1_list.append(f1)\n",
    "\n",
    "    print(\"=\" * 35)\n",
    "    print('\\n')\n",
    "\n",
    "max_accuracy_index = accuracy_list.index(max(accuracy_list))\n",
    "print(f\"The best model based on accuracy is {model_list[max_accuracy_index]} with Testing Accuracy: {accuracy_list[max_accuracy_index]}\")"
   ]
  }
 ],
 "metadata": {
  "kernelspec": {
   "display_name": "Python 3",
   "language": "python",
   "name": "python3"
  },
  "language_info": {
   "codemirror_mode": {
    "name": "ipython",
    "version": 3
   },
   "file_extension": ".py",
   "mimetype": "text/x-python",
   "name": "python",
   "nbconvert_exporter": "python",
   "pygments_lexer": "ipython3",
   "version": "3.12.5"
  }
 },
 "nbformat": 4,
 "nbformat_minor": 2
}
